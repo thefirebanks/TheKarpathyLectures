{
 "cells": [
  {
   "cell_type": "code",
   "execution_count": null,
   "id": "c9117d3b-21a6-460c-93b0-24e96d8af735",
   "metadata": {},
   "outputs": [],
   "source": []
  }
 ],
 "metadata": {
  "kernelspec": {
   "display_name": "Python [conda env:py39_cv]",
   "language": "python",
   "name": "conda-env-py39_cv-py"
  },
  "language_info": {
   "codemirror_mode": {
    "name": "ipython",
    "version": 3
   },
   "file_extension": ".py",
   "mimetype": "text/x-python",
   "name": "python",
   "nbconvert_exporter": "python",
   "pygments_lexer": "ipython3",
   "version": "3.9.13"
  }
 },
 "nbformat": 4,
 "nbformat_minor": 5
}
